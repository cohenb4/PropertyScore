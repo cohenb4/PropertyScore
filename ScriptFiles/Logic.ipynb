{
 "cells": [
  {
   "cell_type": "code",
   "execution_count": 17,
   "metadata": {},
   "outputs": [],
   "source": [
    "import pandas as pd"
   ]
  },
  {
   "cell_type": "code",
   "execution_count": 18,
   "metadata": {},
   "outputs": [],
   "source": [
    "data = pd.read_csv('~\\Calc\\Data\\AllData.csv')"
   ]
  },
  {
   "cell_type": "code",
   "execution_count": 19,
   "metadata": {},
   "outputs": [],
   "source": [
    "data = pd.DataFrame(data = data)"
   ]
  },
  {
   "cell_type": "code",
   "execution_count": 20,
   "metadata": {},
   "outputs": [
    {
     "data": {
      "text/html": [
       "<div>\n",
       "<style scoped>\n",
       "    .dataframe tbody tr th:only-of-type {\n",
       "        vertical-align: middle;\n",
       "    }\n",
       "\n",
       "    .dataframe tbody tr th {\n",
       "        vertical-align: top;\n",
       "    }\n",
       "\n",
       "    .dataframe thead th {\n",
       "        text-align: right;\n",
       "    }\n",
       "</style>\n",
       "<table border=\"1\" class=\"dataframe\">\n",
       "  <thead>\n",
       "    <tr style=\"text-align: right;\">\n",
       "      <th></th>\n",
       "      <th>PropertyID</th>\n",
       "      <th>Long Term Rental Profit</th>\n",
       "      <th>Short Term Rental Profit</th>\n",
       "      <th>Airbnb Cap Rate</th>\n",
       "      <th>Airbnb Cash On Cash</th>\n",
       "      <th>Traditional Cap Rate</th>\n",
       "      <th>Traditional Cash On Cash</th>\n",
       "      <th>AirBnb</th>\n",
       "      <th>Occupancy Rate</th>\n",
       "      <th>Street</th>\n",
       "      <th>...</th>\n",
       "      <th>Down Payment</th>\n",
       "      <th>Monthly Payment</th>\n",
       "      <th>House Type</th>\n",
       "      <th>Year Built</th>\n",
       "      <th>Heating</th>\n",
       "      <th>Cooling</th>\n",
       "      <th>Parking</th>\n",
       "      <th>Lot</th>\n",
       "      <th>Price/SQFT</th>\n",
       "      <th>Rent</th>\n",
       "    </tr>\n",
       "  </thead>\n",
       "  <tbody>\n",
       "    <tr>\n",
       "      <th>0</th>\n",
       "      <td>1.0</td>\n",
       "      <td>-7.98</td>\n",
       "      <td>652.02</td>\n",
       "      <td>0.69</td>\n",
       "      <td>1.09</td>\n",
       "      <td>0.47</td>\n",
       "      <td>-0.01</td>\n",
       "      <td>2070.0</td>\n",
       "      <td>59.0</td>\n",
       "      <td>335 W McMillan St</td>\n",
       "      <td>...</td>\n",
       "      <td>59800.0</td>\n",
       "      <td>1417.98</td>\n",
       "      <td>MultiFamily</td>\n",
       "      <td>1908</td>\n",
       "      <td>Natural Gas']</td>\n",
       "      <td>Window Unit(s)</td>\n",
       "      <td>No Garage</td>\n",
       "      <td>NaN</td>\n",
       "      <td>NaN</td>\n",
       "      <td>1410.0</td>\n",
       "    </tr>\n",
       "  </tbody>\n",
       "</table>\n",
       "<p>1 rows × 27 columns</p>\n",
       "</div>"
      ],
      "text/plain": [
       "   PropertyID  Long Term Rental Profit  Short Term Rental Profit  \\\n",
       "0         1.0                    -7.98                    652.02   \n",
       "\n",
       "   Airbnb Cap Rate  Airbnb Cash On Cash  Traditional Cap Rate  \\\n",
       "0             0.69                 1.09                  0.47   \n",
       "\n",
       "   Traditional Cash On Cash  AirBnb  Occupancy Rate             Street  ...  \\\n",
       "0                     -0.01  2070.0            59.0  335 W McMillan St  ...   \n",
       "\n",
       "  Down Payment Monthly Payment   House Type  Year Built        Heating  \\\n",
       "0      59800.0         1417.98  MultiFamily        1908  Natural Gas']   \n",
       "\n",
       "          Cooling    Parking  Lot  Price/SQFT    Rent  \n",
       "0  Window Unit(s)  No Garage  NaN         NaN  1410.0  \n",
       "\n",
       "[1 rows x 27 columns]"
      ]
     },
     "execution_count": 20,
     "metadata": {},
     "output_type": "execute_result"
    }
   ],
   "source": [
    "data"
   ]
  },
  {
   "cell_type": "code",
   "execution_count": 52,
   "metadata": {},
   "outputs": [],
   "source": [
    "traditionalProfit = \"${:.2f}\".format(float((str(data['Long Term Rental Profit'][0]).replace(' ', '-').replace('0----', ''))), 2)"
   ]
  },
  {
   "cell_type": "code",
   "execution_count": 53,
   "metadata": {},
   "outputs": [],
   "source": [
    "airbnbProfit = \"${:.2f}\".format(float((str(data['Short Term Rental Profit'][0]).replace(' ', '-').replace('0----', ''))))"
   ]
  },
  {
   "cell_type": "code",
   "execution_count": 44,
   "metadata": {},
   "outputs": [],
   "source": [
    "airbnbCapRate = \"{:.2%}\".format(round(float((str(data['Airbnb Cap Rate'][0]).replace(' ', '-').replace('0----', ''))), 4)/100)"
   ]
  },
  {
   "cell_type": "code",
   "execution_count": 54,
   "metadata": {},
   "outputs": [],
   "source": [
    "traditionalCapRate = \"{:.2%}\".format(round(float((str(data['Traditional Cap Rate'][0]).replace(' ', '-').replace('0----', ''))), 4)/100)"
   ]
  },
  {
   "cell_type": "code",
   "execution_count": null,
   "metadata": {},
   "outputs": [],
   "source": []
  }
 ],
 "metadata": {
  "kernelspec": {
   "display_name": "Python 3",
   "language": "python",
   "name": "python3"
  },
  "language_info": {
   "codemirror_mode": {
    "name": "ipython",
    "version": 3
   },
   "file_extension": ".py",
   "mimetype": "text/x-python",
   "name": "python",
   "nbconvert_exporter": "python",
   "pygments_lexer": "ipython3",
   "version": "3.8.5"
  }
 },
 "nbformat": 4,
 "nbformat_minor": 4
}
