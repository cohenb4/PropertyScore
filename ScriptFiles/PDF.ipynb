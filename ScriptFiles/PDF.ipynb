{
 "cells": [
  {
   "cell_type": "code",
   "execution_count": 1,
   "metadata": {},
   "outputs": [
    {
     "name": "stdout",
     "output_type": "stream",
     "text": [
      "Requirement already satisfied: fpdf in c:\\users\\bcohe\\anaconda3\\lib\\site-packages (1.7.2)\n"
     ]
    }
   ],
   "source": [
    "!pip install fpdf"
   ]
  },
  {
   "cell_type": "code",
   "execution_count": 35,
   "metadata": {},
   "outputs": [],
   "source": [
    "from fpdf import FPDF\n",
    "import pandas as pd"
   ]
  },
  {
   "cell_type": "code",
   "execution_count": 42,
   "metadata": {},
   "outputs": [
    {
     "data": {
      "text/html": [
       "<div>\n",
       "<style scoped>\n",
       "    .dataframe tbody tr th:only-of-type {\n",
       "        vertical-align: middle;\n",
       "    }\n",
       "\n",
       "    .dataframe tbody tr th {\n",
       "        vertical-align: top;\n",
       "    }\n",
       "\n",
       "    .dataframe thead th {\n",
       "        text-align: right;\n",
       "    }\n",
       "</style>\n",
       "<table border=\"1\" class=\"dataframe\">\n",
       "  <thead>\n",
       "    <tr style=\"text-align: right;\">\n",
       "      <th></th>\n",
       "      <th>PropertyID</th>\n",
       "      <th>Street</th>\n",
       "      <th>City</th>\n",
       "      <th>State</th>\n",
       "      <th>ZipCode</th>\n",
       "      <th>Beds</th>\n",
       "      <th>Baths</th>\n",
       "      <th>SQFT</th>\n",
       "      <th>Price</th>\n",
       "      <th>Down Payment</th>\n",
       "      <th>Monthly Payment</th>\n",
       "      <th>House Type</th>\n",
       "      <th>Year Built</th>\n",
       "      <th>Heating</th>\n",
       "      <th>Cooling</th>\n",
       "      <th>Parking</th>\n",
       "      <th>Lot</th>\n",
       "      <th>Price/SQFT</th>\n",
       "    </tr>\n",
       "  </thead>\n",
       "  <tbody>\n",
       "    <tr>\n",
       "      <th>0</th>\n",
       "      <td>1</td>\n",
       "      <td>243 Thisbe Ave</td>\n",
       "      <td>Cincinnati</td>\n",
       "      <td>OH</td>\n",
       "      <td>45233</td>\n",
       "      <td>2.0</td>\n",
       "      <td>1.0</td>\n",
       "      <td>744</td>\n",
       "      <td>130000.0</td>\n",
       "      <td>26000.0</td>\n",
       "      <td>772.51</td>\n",
       "      <td>SingleFamily</td>\n",
       "      <td>1931</td>\n",
       "      <td>Forced Air</td>\n",
       "      <td>Central Air</td>\n",
       "      <td>No Garage</td>\n",
       "      <td>0.26</td>\n",
       "      <td>174.73</td>\n",
       "    </tr>\n",
       "  </tbody>\n",
       "</table>\n",
       "</div>"
      ],
      "text/plain": [
       "   PropertyID          Street        City State  ZipCode  Beds  Baths  SQFT  \\\n",
       "0           1  243 Thisbe Ave  Cincinnati    OH    45233   2.0    1.0   744   \n",
       "\n",
       "      Price  Down Payment  Monthly Payment    House Type  Year Built  \\\n",
       "0  130000.0       26000.0           772.51  SingleFamily        1931   \n",
       "\n",
       "      Heating      Cooling    Parking   Lot  Price/SQFT  \n",
       "0  Forced Air  Central Air  No Garage  0.26      174.73  "
      ]
     },
     "execution_count": 42,
     "metadata": {},
     "output_type": "execute_result"
    }
   ],
   "source": [
    "dataSet = pd.read_csv('~\\Calc\\Data\\AllData.csv')\n",
    "dataSet"
   ]
  },
  {
   "cell_type": "code",
   "execution_count": 43,
   "metadata": {},
   "outputs": [],
   "source": [
    "beds = str(int(dataSet['Beds']))\n",
    "street = str(dataSet['Street'][0]).replace(' ', '-').replace('0----', '')\n",
    "city = str(dataSet['City'][0]).replace(' ', '-').replace('0----', '')\n",
    "state = str(dataSet['State'][0]).replace(' ', '-').replace('0----', '')\n",
    "zipcode = str(dataSet['ZipCode'][0]).replace(' ', '-').replace('0----', '')\n",
    "address = street.replace('-', ' ') + \", \" + city + \", \" + state + \", \" + zipcode"
   ]
  },
  {
   "cell_type": "code",
   "execution_count": 44,
   "metadata": {},
   "outputs": [],
   "source": [
    "class PDF(FPDF):\n",
    "    def lines(self):\n",
    "        self.set_line_width(0.0)\n",
    "        self.line(5.0, 5.0, 205.0, 5.0)"
   ]
  },
  {
   "cell_type": "code",
   "execution_count": 45,
   "metadata": {},
   "outputs": [],
   "source": [
    "def tiles(self):\n",
    "    self.set_xy(0.0, 0.0)\n",
    "    self.set_font('Arial', 'B', 16)\n",
    "    self.set_text_color(220, 50, 50)\n",
    "    self.cell(w=210.0, h=40.0, align='C', txt = address, border = 0)"
   ]
  },
  {
   "cell_type": "code",
   "execution_count": 46,
   "metadata": {},
   "outputs": [],
   "source": [
    "pdf = PDF()"
   ]
  },
  {
   "cell_type": "code",
   "execution_count": 47,
   "metadata": {},
   "outputs": [],
   "source": [
    "pdf = PDF(orientation='L')"
   ]
  },
  {
   "cell_type": "code",
   "execution_count": 48,
   "metadata": {},
   "outputs": [],
   "source": [
    "pdf = PDF(unit='mm')"
   ]
  },
  {
   "cell_type": "code",
   "execution_count": 49,
   "metadata": {},
   "outputs": [],
   "source": [
    "pdf = PDF(format = 'A4')"
   ]
  },
  {
   "cell_type": "code",
   "execution_count": 50,
   "metadata": {},
   "outputs": [],
   "source": [
    "PDF(orientation='P', unit='mm', format='A4')\n",
    "pdf_w=210\n",
    "pdf_h=297"
   ]
  },
  {
   "cell_type": "code",
   "execution_count": 51,
   "metadata": {},
   "outputs": [
    {
     "data": {
      "text/plain": [
       "''"
      ]
     },
     "execution_count": 51,
     "metadata": {},
     "output_type": "execute_result"
    }
   ],
   "source": [
    "pdf.add_page()\n",
    "pdf.output('test.pdf', 'F')"
   ]
  },
  {
   "cell_type": "code",
   "execution_count": null,
   "metadata": {},
   "outputs": [],
   "source": []
  }
 ],
 "metadata": {
  "kernelspec": {
   "display_name": "Python 3",
   "language": "python",
   "name": "python3"
  },
  "language_info": {
   "codemirror_mode": {
    "name": "ipython",
    "version": 3
   },
   "file_extension": ".py",
   "mimetype": "text/x-python",
   "name": "python",
   "nbconvert_exporter": "python",
   "pygments_lexer": "ipython3",
   "version": "3.8.5"
  }
 },
 "nbformat": 4,
 "nbformat_minor": 4
}
