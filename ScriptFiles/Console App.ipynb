{
 "cells": [
  {
   "cell_type": "code",
   "execution_count": 5,
   "metadata": {},
   "outputs": [
    {
     "name": "stdout",
     "output_type": "stream",
     "text": [
      "Requirement already satisfied: requests_html in c:\\users\\bcohe\\anaconda3\\lib\\site-packages (0.10.0)\n",
      "Requirement already satisfied: fake-useragent in c:\\users\\bcohe\\anaconda3\\lib\\site-packages (from requests_html) (0.1.11)\n",
      "Requirement already satisfied: pyquery in c:\\users\\bcohe\\anaconda3\\lib\\site-packages (from requests_html) (1.4.3)\n",
      "Requirement already satisfied: pyppeteer>=0.0.14 in c:\\users\\bcohe\\anaconda3\\lib\\site-packages (from requests_html) (0.2.5)\n",
      "Requirement already satisfied: parse in c:\\users\\bcohe\\anaconda3\\lib\\site-packages (from requests_html) (1.19.0)\n",
      "Requirement already satisfied: w3lib in c:\\users\\bcohe\\anaconda3\\lib\\site-packages (from requests_html) (1.22.0)\n",
      "Requirement already satisfied: requests in c:\\users\\bcohe\\anaconda3\\lib\\site-packages (from requests_html) (2.24.0)\n",
      "Requirement already satisfied: bs4 in c:\\users\\bcohe\\anaconda3\\lib\\site-packages (from requests_html) (0.0.1)\n",
      "Requirement already satisfied: cssselect>0.7.9 in c:\\users\\bcohe\\anaconda3\\lib\\site-packages (from pyquery->requests_html) (1.1.0)\n",
      "Requirement already satisfied: lxml>=2.1 in c:\\users\\bcohe\\anaconda3\\lib\\site-packages (from pyquery->requests_html) (4.6.1)\n",
      "Requirement already satisfied: tqdm<5.0.0,>=4.42.1 in c:\\users\\bcohe\\anaconda3\\lib\\site-packages (from pyppeteer>=0.0.14->requests_html) (4.50.2)\n",
      "Requirement already satisfied: appdirs<2.0.0,>=1.4.3 in c:\\users\\bcohe\\anaconda3\\lib\\site-packages (from pyppeteer>=0.0.14->requests_html) (1.4.4)\n",
      "Requirement already satisfied: pyee<9.0.0,>=8.1.0 in c:\\users\\bcohe\\anaconda3\\lib\\site-packages (from pyppeteer>=0.0.14->requests_html) (8.1.0)\n",
      "Requirement already satisfied: websockets<9.0,>=8.1 in c:\\users\\bcohe\\anaconda3\\lib\\site-packages (from pyppeteer>=0.0.14->requests_html) (8.1)\n",
      "Requirement already satisfied: urllib3<2.0.0,>=1.25.8 in c:\\users\\bcohe\\anaconda3\\lib\\site-packages (from pyppeteer>=0.0.14->requests_html) (1.25.11)\n",
      "Requirement already satisfied: six>=1.4.1 in c:\\users\\bcohe\\anaconda3\\lib\\site-packages (from w3lib->requests_html) (1.15.0)\n",
      "Requirement already satisfied: idna<3,>=2.5 in c:\\users\\bcohe\\anaconda3\\lib\\site-packages (from requests->requests_html) (2.10)\n",
      "Requirement already satisfied: certifi>=2017.4.17 in c:\\users\\bcohe\\anaconda3\\lib\\site-packages (from requests->requests_html) (2020.6.20)\n",
      "Requirement already satisfied: chardet<4,>=3.0.2 in c:\\users\\bcohe\\anaconda3\\lib\\site-packages (from requests->requests_html) (3.0.4)\n",
      "Requirement already satisfied: beautifulsoup4 in c:\\users\\bcohe\\anaconda3\\lib\\site-packages (from bs4->requests_html) (4.9.3)\n",
      "Requirement already satisfied: soupsieve>1.2; python_version >= \"3.0\" in c:\\users\\bcohe\\anaconda3\\lib\\site-packages (from beautifulsoup4->bs4->requests_html) (2.0.1)\n"
     ]
    }
   ],
   "source": [
    "!pip install requests_html"
   ]
  },
  {
   "cell_type": "code",
   "execution_count": 6,
   "metadata": {},
   "outputs": [
    {
     "name": "stdout",
     "output_type": "stream",
     "text": [
      "Requirement already satisfied: geopy in c:\\users\\bcohe\\anaconda3\\lib\\site-packages (2.1.0)\n",
      "Requirement already satisfied: geographiclib<2,>=1.49 in c:\\users\\bcohe\\anaconda3\\lib\\site-packages (from geopy) (1.52)\n"
     ]
    }
   ],
   "source": [
    "!pip install geopy"
   ]
  },
  {
   "cell_type": "markdown",
   "metadata": {},
   "source": [
    "# Functions"
   ]
  },
  {
   "cell_type": "markdown",
   "metadata": {},
   "source": [
    "### Required Libraries"
   ]
  },
  {
   "cell_type": "code",
   "execution_count": 1,
   "metadata": {},
   "outputs": [],
   "source": [
    "import requests\n",
    "from bs4 import BeautifulSoup\n",
    "import numpy as np\n",
    "import pandas as pd\n",
    "import regex as re\n",
    "import lxml\n",
    "from lxml.html.soupparser import fromstring\n",
    "import prettify\n",
    "import numbers\n",
    "import htmltext\n",
    "import urllib\n",
    "from requests_html import HTML\n",
    "from requests_html import HTMLSession\n",
    "import math\n",
    "from geopy.geocoders import Nominatim\n",
    "from flask import Flask, render_template, request"
   ]
  },
  {
   "cell_type": "markdown",
   "metadata": {},
   "source": [
    "### Function for scraping google"
   ]
  },
  {
   "cell_type": "code",
   "execution_count": 42,
   "metadata": {},
   "outputs": [],
   "source": [
    "def get_source(url):\n",
    "    try:\n",
    "        session = HTMLSession()\n",
    "        response = session.get(url)\n",
    "        return response\n",
    "\n",
    "    except requests.exceptions.RequestException as e:\n",
    "        print(e)\n",
    "        \n",
    "def scrape_google(query):\n",
    "\n",
    "    query = urllib.parse.quote_plus(query)\n",
    "    response = get_source(\"https://www.google.co.uk/search?q=\" + query + 'redfin')\n",
    "\n",
    "    links = list(response.html.absolute_links)\n",
    "    google_domains = ('https://www.google.', \n",
    "                      'https://google.', \n",
    "                      'https://webcache.googleusercontent.', \n",
    "                      'http://webcache.googleusercontent.', \n",
    "                      'https://policies.google.',\n",
    "                      'https://support.google.',\n",
    "                      'https://maps.google.')\n",
    "\n",
    "    for url in links[:]:\n",
    "        if url.startswith(google_domains):\n",
    "            links.remove(url)\n",
    "    links = [x for x in links if 'redfin' in x]\n",
    "    return links"
   ]
  },
  {
   "cell_type": "markdown",
   "metadata": {},
   "source": [
    "### Calculates Mortgage"
   ]
  },
  {
   "cell_type": "code",
   "execution_count": 43,
   "metadata": {},
   "outputs": [],
   "source": [
    "def calc_mortgage(principal, interest, years):\n",
    "        '''\n",
    "        given mortgage loan principal, interest(%) and years to pay\n",
    "        calculate and return monthly payment amount\n",
    "        '''\n",
    "        # monthly rate from annual percentage rate\n",
    "        interest_rate = interest/(100 * 12)\n",
    "        # total number of payments\n",
    "        payment_num = years * 12\n",
    "        # calculate monthly payment\n",
    "        payment = principal * \\\n",
    "            (interest_rate/(1-math.pow((1+interest_rate), (-payment_num))))\n",
    "        return payment"
   ]
  },
  {
   "cell_type": "markdown",
   "metadata": {},
   "source": [
    "### Calculates Down Payment"
   ]
  },
  {
   "cell_type": "code",
   "execution_count": 44,
   "metadata": {},
   "outputs": [],
   "source": [
    "def downpayment(price, percent):\n",
    "        downpayment = (price * (percent/100))\n",
    "        return downpayment"
   ]
  },
  {
   "cell_type": "markdown",
   "metadata": {},
   "source": [
    "### Calculates Cap Rate"
   ]
  },
  {
   "cell_type": "code",
   "execution_count": 45,
   "metadata": {},
   "outputs": [],
   "source": [
    "def capRate(income, price):\n",
    "        return income / price"
   ]
  },
  {
   "cell_type": "markdown",
   "metadata": {},
   "source": [
    "### Calculates Cash On Cash"
   ]
  },
  {
   "cell_type": "code",
   "execution_count": 46,
   "metadata": {},
   "outputs": [],
   "source": [
    "def cashOnCash(profit, downpayment):\n",
    "        return profit / downpayment"
   ]
  },
  {
   "cell_type": "markdown",
   "metadata": {},
   "source": [
    "### Calculates Monthly Payment"
   ]
  },
  {
   "cell_type": "code",
   "execution_count": 47,
   "metadata": {},
   "outputs": [],
   "source": [
    "def monthlypayment(homeInsurance, propertyTaxes, hoa, mortgage, otherExpenses, propertyManagementFee, vacancyRate):\n",
    "        monthlyPayment = homeInsurance + propertyTaxes + hoa + mortgage + otherExpenses + propertyManagementFee + vacancyRate\n",
    "        return monthlyPayment"
   ]
  },
  {
   "cell_type": "markdown",
   "metadata": {},
   "source": [
    "### Vacancy Rate"
   ]
  },
  {
   "cell_type": "code",
   "execution_count": 48,
   "metadata": {},
   "outputs": [],
   "source": [
    "def vacancyRate(state):\n",
    "    vacancy = pd.read_csv('~\\Calc\\Data\\RentalVacancy.csv')\n",
    "    vacancy = pd.DataFrame(data = vacancy, columns=['State', 'Vacancy Rate'])\n",
    "    vacancy = vacancy.loc[vacancy['State'] == state]\n",
    "    vacancyRate = vacancy['Vacancy Rate']\n",
    "    index = vacancyRate.index.tolist()\n",
    "    vacancyRate = float(str(vacancyRate[index[0]]).replace('%', '')) \n",
    "    return vacancyRate / 100"
   ]
  },
  {
   "cell_type": "markdown",
   "metadata": {},
   "source": [
    "# Property Data"
   ]
  },
  {
   "cell_type": "code",
   "execution_count": 49,
   "metadata": {},
   "outputs": [
    {
     "name": "stdout",
     "output_type": "stream",
     "text": [
      "Enter address: 4047 Bremo Recess\n"
     ]
    }
   ],
   "source": [
    "request_headers = {\n",
    "    'accept': \n",
    "    'text/html, application/xhtml+xml, application/xml;q=0.9, image/webp, image/apng,*/*;q=0.8',\n",
    "    'accept-encoding': 'gzip, deflate, br',\n",
    "    'accept-language': 'en-US, en;q=0.8',\n",
    "    'upgrade-insecure-requests': '1',\n",
    "    'user-agent': 'Mozilla/5.0 (Windows NT 10.0; Win64; x64) AppleWebKit/537.36 (KHTML, like Gecko) Chrome/61.0.3163.100 Safari/537.36'\n",
    "}\n",
    "with requests.Session() as session:\n",
    "    url = str(scrape_google(str(input(\"Enter address: \")))[0])\n",
    "    response = session.get(url, headers = request_headers)"
   ]
  },
  {
   "cell_type": "code",
   "execution_count": 50,
   "metadata": {},
   "outputs": [],
   "source": [
    "soup = BeautifulSoup(response.content, 'html.parser')"
   ]
  },
  {
   "cell_type": "markdown",
   "metadata": {},
   "source": [
    "### Address"
   ]
  },
  {
   "cell_type": "code",
   "execution_count": 51,
   "metadata": {},
   "outputs": [],
   "source": [
    "street = soup.find('meta', {'name': 'twitter:text:street_address'})['content']\n",
    "city = soup.find('meta', {'name': 'twitter:text:city'})['content']\n",
    "state = soup.find('meta', {'name': 'twitter:text:state_code'})['content']\n",
    "zipcode = soup.find('meta', {'name': 'twitter:text:zip'})['content']\n",
    "latitude = str(soup.find('meta', {'name': 'geo.position'})['content']).split(';')[0]\n",
    "longitude = str(soup.find('meta', {'name': 'geo.position'})['content']).split(';')[1]\n",
    "address = street + ', ' + city + ', ' + state + ' ' + zipcode\n",
    "neighborhood = '1'"
   ]
  },
  {
   "cell_type": "markdown",
   "metadata": {},
   "source": [
    "### Beds"
   ]
  },
  {
   "cell_type": "code",
   "execution_count": 52,
   "metadata": {},
   "outputs": [
    {
     "data": {
      "text/plain": [
       "4"
      ]
     },
     "execution_count": 52,
     "metadata": {},
     "output_type": "execute_result"
    }
   ],
   "source": [
    "beds = int(soup.find('meta', {'name': 'twitter:text:beds'})['content'])\n",
    "beds"
   ]
  },
  {
   "cell_type": "markdown",
   "metadata": {},
   "source": [
    "### Baths"
   ]
  },
  {
   "cell_type": "code",
   "execution_count": 53,
   "metadata": {},
   "outputs": [],
   "source": [
    "baths = float(soup.find('meta', {'name': 'twitter:text:baths'})['content'])"
   ]
  },
  {
   "cell_type": "markdown",
   "metadata": {},
   "source": [
    "### SQFT"
   ]
  },
  {
   "cell_type": "code",
   "execution_count": 54,
   "metadata": {},
   "outputs": [],
   "source": [
    "sqft = int(str(soup.find('meta', {'name': 'twitter:text:sqft'})['content']).replace(',', ''))"
   ]
  },
  {
   "cell_type": "markdown",
   "metadata": {},
   "source": [
    "### Property Type"
   ]
  },
  {
   "cell_type": "code",
   "execution_count": 58,
   "metadata": {},
   "outputs": [
    {
     "ename": "IndexError",
     "evalue": "list index out of range",
     "output_type": "error",
     "traceback": [
      "\u001b[1;31m---------------------------------------------------------------------------\u001b[0m",
      "\u001b[1;31mIndexError\u001b[0m                                Traceback (most recent call last)",
      "\u001b[1;32m<ipython-input-58-8bb031805d58>\u001b[0m in \u001b[0;36m<module>\u001b[1;34m\u001b[0m\n\u001b[0;32m      1\u001b[0m \u001b[0mpropertyType\u001b[0m \u001b[1;33m=\u001b[0m \u001b[0msoup\u001b[0m\u001b[1;33m.\u001b[0m\u001b[0mfind_all\u001b[0m\u001b[1;33m(\u001b[0m\u001b[1;34m'div'\u001b[0m\u001b[1;33m,\u001b[0m \u001b[1;33m{\u001b[0m\u001b[1;34m'class'\u001b[0m\u001b[1;33m:\u001b[0m\u001b[1;34m'keyDetail font-weight-roman font-size-base'\u001b[0m\u001b[1;33m}\u001b[0m\u001b[1;33m)\u001b[0m\u001b[1;33m\u001b[0m\u001b[1;33m\u001b[0m\u001b[0m\n\u001b[0;32m      2\u001b[0m \u001b[0mpropertyType\u001b[0m \u001b[1;33m=\u001b[0m \u001b[0mstr\u001b[0m\u001b[1;33m(\u001b[0m\u001b[0mpropertyType\u001b[0m\u001b[1;33m)\u001b[0m\u001b[1;33m.\u001b[0m\u001b[0msplit\u001b[0m\u001b[1;33m(\u001b[0m\u001b[1;34m'<div class'\u001b[0m\u001b[1;33m)\u001b[0m\u001b[1;33m\u001b[0m\u001b[1;33m\u001b[0m\u001b[0m\n\u001b[1;32m----> 3\u001b[1;33m \u001b[0mpropertyType\u001b[0m \u001b[1;33m=\u001b[0m \u001b[0mstr\u001b[0m\u001b[1;33m(\u001b[0m\u001b[1;33m[\u001b[0m\u001b[0mx\u001b[0m \u001b[1;32mfor\u001b[0m \u001b[0mx\u001b[0m \u001b[1;32min\u001b[0m \u001b[0mpropertyType\u001b[0m \u001b[1;32mif\u001b[0m \u001b[1;34m'Property'\u001b[0m \u001b[1;32min\u001b[0m \u001b[0mx\u001b[0m\u001b[1;33m]\u001b[0m\u001b[1;33m[\u001b[0m\u001b[1;36m0\u001b[0m\u001b[1;33m]\u001b[0m\u001b[1;33m)\u001b[0m\u001b[1;33m.\u001b[0m\u001b[0mreplace\u001b[0m\u001b[1;33m(\u001b[0m\u001b[1;34m'=\"keyDetail font-weight-roman font-size-base\"><span class=\"header font-color-gray-light inline-block\">Property Type</span><span class=\"content text-right\">'\u001b[0m\u001b[1;33m,\u001b[0m\u001b[1;34m''\u001b[0m\u001b[1;33m)\u001b[0m\u001b[1;33m.\u001b[0m\u001b[0mreplace\u001b[0m\u001b[1;33m(\u001b[0m\u001b[1;34m'</span></div>, '\u001b[0m\u001b[1;33m,\u001b[0m \u001b[1;34m''\u001b[0m\u001b[1;33m)\u001b[0m\u001b[1;33m\u001b[0m\u001b[1;33m\u001b[0m\u001b[0m\n\u001b[0m",
      "\u001b[1;31mIndexError\u001b[0m: list index out of range"
     ]
    }
   ],
   "source": [
    "propertyType = soup.find_all('div', {'class':'keyDetail font-weight-roman font-size-base'})\n",
    "propertyType = str(propertyType).split('<div class')\n",
    "propertyType = str([x for x in propertyType if 'Property' in x][0]).replace('=\"keyDetail font-weight-roman font-size-base\"><span class=\"header font-color-gray-light inline-block\">Property Type</span><span class=\"content text-right\">','').replace('</span></div>, ', '')"
   ]
  },
  {
   "cell_type": "markdown",
   "metadata": {},
   "source": [
    "# Financials"
   ]
  },
  {
   "cell_type": "markdown",
   "metadata": {},
   "source": [
    "### Price"
   ]
  },
  {
   "cell_type": "code",
   "execution_count": 16,
   "metadata": {},
   "outputs": [],
   "source": [
    "price = [td.findAll('div') for td in soup.findAll('div', attrs={'class': 'stat-block price-section'})][0][0]\n",
    "price = price.text.replace('$','').replace(',', '')\n",
    "price = float(price)"
   ]
  },
  {
   "cell_type": "markdown",
   "metadata": {},
   "source": [
    "### Property Taxes"
   ]
  },
  {
   "cell_type": "code",
   "execution_count": 17,
   "metadata": {},
   "outputs": [],
   "source": [
    "propertyTaxes = str(soup.find_all('div', attrs={'class': 'Row col-12 col-xl-6 padding-bottom-medium font-weight-roman font-size-base'})).split('<svg')\n",
    "propertyTaxes = str([x for x in propertyTaxes if 'blue' in x][0])\n",
    "propertyTaxes = float(re.search(r'([£$€])(\\d+(?:\\.\\d{2})?)', propertyTaxes).groups()[1])"
   ]
  },
  {
   "cell_type": "markdown",
   "metadata": {},
   "source": [
    "### Home Insurance"
   ]
  },
  {
   "cell_type": "code",
   "execution_count": 18,
   "metadata": {},
   "outputs": [],
   "source": [
    "homeInsurance = str(soup.find_all('div', attrs={'class': 'Row col-12 col-xl-6 padding-bottom-medium font-weight-roman font-size-base'})).split('<svg')\n",
    "homeInsurance = str([x for x in homeInsurance if 'yellow' in x][0])\n",
    "homeInsurance = float(re.search(r'([£$€])(\\d+(?:\\.\\d{2})?)', homeInsurance).groups()[1])"
   ]
  },
  {
   "cell_type": "markdown",
   "metadata": {},
   "source": [
    "### HOA"
   ]
  },
  {
   "cell_type": "code",
   "execution_count": 19,
   "metadata": {},
   "outputs": [],
   "source": [
    "a = str(soup.find_all('div', attrs={'class': 'Row col-12 col-xl-6 padding-bottom-medium font-weight-roman font-size-base'})).split('<svg')\n",
    "b = [x for x in a if 'red' in x]\n",
    "if len(b) == 0:\n",
    "    hoa = 0\n",
    "elif len(b) >= 1:\n",
    "    b = str(b[0])\n",
    "    hoa = float(re.search(r'([£$€])(\\d+(?:\\.\\d{2})?)', b).groups()[1])"
   ]
  },
  {
   "cell_type": "markdown",
   "metadata": {},
   "source": [
    "### Calculates Mortgage & DownPayment"
   ]
  },
  {
   "cell_type": "code",
   "execution_count": 20,
   "metadata": {},
   "outputs": [
    {
     "name": "stdout",
     "output_type": "stream",
     "text": [
      "Down Payment Percent: 20\n",
      "Interest: 3\n",
      "Years: 30\n",
      "Down payment: $145,691.20\n",
      "Mortgage: $2,456.96\n"
     ]
    }
   ],
   "source": [
    "percent = float(input(\"Down Payment Percent: \"))\n",
    "downPayment = downpayment(price, percent)\n",
    "\n",
    "# mortgage loan principal\n",
    "principal = price - downPayment\n",
    "# percent annual interest\n",
    "interest = float(input(\"Interest: \"))\n",
    "if interest == None:\n",
    "    interest = 4\n",
    "# years to pay off mortgage\n",
    "years = int(input(\"Years: \"))\n",
    "# calculate monthly payment amount\n",
    "mortgage = float(round(calc_mortgage(principal, interest, years), 2))\n",
    "print(\"Down payment:\", \"${:,.2f}\".format(downPayment))\n",
    "print(\"Mortgage:\", \"${:,.2f}\".format(mortgage))"
   ]
  },
  {
   "cell_type": "markdown",
   "metadata": {},
   "source": [
    "# Long Term"
   ]
  },
  {
   "cell_type": "code",
   "execution_count": 21,
   "metadata": {},
   "outputs": [],
   "source": [
    "address0 = street.replace(' ', '-') + '-' + city.replace(' ', '-') + '-' + state.lower().replace(' ',  '-')+ '-' + zipcode"
   ]
  },
  {
   "cell_type": "code",
   "execution_count": 22,
   "metadata": {},
   "outputs": [],
   "source": [
    "if beds >= 6:\n",
    "    beds1 = 6"
   ]
  },
  {
   "cell_type": "code",
   "execution_count": 23,
   "metadata": {},
   "outputs": [],
   "source": [
    "propertyManagement = True"
   ]
  },
  {
   "cell_type": "code",
   "execution_count": 24,
   "metadata": {},
   "outputs": [],
   "source": [
    "url = \"https://www.zillow.com/rental-manager/price-my-rental/results/\" + address0 + '/'\n",
    "results = requests.get(url)\n",
    "soup1 = BeautifulSoup(results.content, 'html.parser')"
   ]
  },
  {
   "cell_type": "code",
   "execution_count": 25,
   "metadata": {},
   "outputs": [
    {
     "name": "stdout",
     "output_type": "stream",
     "text": [
      "Other Expenses: 0\n"
     ]
    }
   ],
   "source": [
    "otherExpenses = float(input(\"Other Expenses: \"))\n",
    "if otherExpenses == None:\n",
    "    otherExpenses = 0"
   ]
  },
  {
   "cell_type": "markdown",
   "metadata": {},
   "source": [
    "### Gets Rent"
   ]
  },
  {
   "cell_type": "code",
   "execution_count": 26,
   "metadata": {},
   "outputs": [
    {
     "data": {
      "text/plain": [
       "173.052"
      ]
     },
     "execution_count": 26,
     "metadata": {},
     "output_type": "execute_result"
    }
   ],
   "source": [
    "traditionalincome = soup1.find('h2', {'class': 'Text-c11n-8-23-1__aiai24-0 cpSRFk'}).text.replace('$', '').replace(',', '').replace('/moEdit', '')\n",
    "if(len(traditionalincome) == 0):\n",
    "    traditionalincome = None\n",
    "else:\n",
    "    traditionalincome = float(traditionalincome)\n",
    "    \n",
    "if propertyManagement == True:\n",
    "    propertyManagementFee = traditionalincome * .1\n",
    "else:\n",
    "    propertyManagementFee = 0\n",
    "    \n",
    "vacancyrate = traditionalincome * vacancyRate(state)\n",
    "vacancyrate"
   ]
  },
  {
   "cell_type": "code",
   "execution_count": 27,
   "metadata": {},
   "outputs": [
    {
     "name": "stdout",
     "output_type": "stream",
     "text": [
      "Monthly Payment: $3,791.21\n",
      "Long Term Income: $3,762.00\n"
     ]
    }
   ],
   "source": [
    "monthlyPayment = monthlypayment(homeInsurance, propertyTaxes, hoa, mortgage, otherExpenses, propertyManagementFee, vacancyrate)\n",
    "print(\"Monthly Payment:\", \"${:,.2f}\".format(monthlyPayment))\n",
    "\n",
    "traditionalProfit = traditionalincome - monthlyPayment\n",
    "traditionalCapRate = round((traditionalincome / price) * 100, 2)\n",
    "traditionalCashOnCash = round((traditionalProfit / downPayment)* 100, 2)\n",
    "print(\"Long Term Income:\", \"${:,.2f}\".format(traditionalincome))"
   ]
  },
  {
   "cell_type": "markdown",
   "metadata": {},
   "source": [
    "# Short Term"
   ]
  },
  {
   "cell_type": "code",
   "execution_count": 28,
   "metadata": {},
   "outputs": [
    {
     "name": "stdout",
     "output_type": "stream",
     "text": [
      "https://www.mashvisor.com/cities/oh/New-Albany-investment-property-guide\n"
     ]
    }
   ],
   "source": [
    "request_headers = {\n",
    "    'accept': \n",
    "    'text/html, application/xhtml+xml, application/xml;q=0.9, image/webp, image/apng,*/*;q=0.8',\n",
    "    'accept-encoding': 'gzip, deflate, br',\n",
    "    'accept-language': 'en-US, en;q=0.8',\n",
    "    'upgrade-insecure-requests': '1',\n",
    "    'user-agent': 'Mozilla/5.0 (Windows NT 10.0; Win64; x64) AppleWebKit/537.36 (KHTML, like Gecko) Chrome/61.0.3163.100 Safari/537.36'\n",
    "    }\n",
    "with requests.Session() as session:\n",
    "    url= \"https://www.mashvisor.com/cities/\" + state.lower().replace(' ', '') + \"/\" + city.replace(' ', '-') + \"-investment-property-guide\"\n",
    "    response = session.get(url, headers = request_headers)\n",
    "print(url)"
   ]
  },
  {
   "cell_type": "code",
   "execution_count": 29,
   "metadata": {},
   "outputs": [],
   "source": [
    "soup2 = BeautifulSoup(response.content, 'html.parser')"
   ]
  },
  {
   "cell_type": "markdown",
   "metadata": {},
   "source": [
    "### Calculates Closing Costs & All In"
   ]
  },
  {
   "cell_type": "code",
   "execution_count": 30,
   "metadata": {},
   "outputs": [],
   "source": [
    "closingCosts = principal * .05\n",
    "allin = downPayment + closingCosts"
   ]
  },
  {
   "cell_type": "markdown",
   "metadata": {},
   "source": [
    "### Picks Price / Beds"
   ]
  },
  {
   "cell_type": "code",
   "execution_count": 31,
   "metadata": {},
   "outputs": [
    {
     "name": "stdout",
     "output_type": "stream",
     "text": [
      "Short Term Income: $2,435.00\n"
     ]
    }
   ],
   "source": [
    "if (beds <= 1):\n",
    "    airbnbincome = pd.read_html(url) # Returns list of all tables on page\n",
    "    airbnbincome = float(airbnbincome[0].iloc[0].iloc[1].replace('$ ', '').replace(',', ''))\n",
    "elif (beds == 2):\n",
    "    airbnbincome = pd.read_html(url) # Returns list of all tables on page\n",
    "    airbnbincome = float(airbnbincome[0].iloc[0].iloc[2].replace('$ ', '').replace(',', ''))\n",
    "elif (beds == 3):\n",
    "    airbnbincome = pd.read_html(url) # Returns list of all tables on page\n",
    "    airbnbincome = float(airbnbincome[0].iloc[0].iloc[3].replace('$ ', '').replace(',', ''))\n",
    "elif (beds >= 4):\n",
    "    airbnbincome = pd.read_html(url) # Returns list of all tables on page\n",
    "    airbnbincome = float(airbnbincome[0].iloc[0].iloc[4].replace('$ ', '').replace(',', ''))\n",
    "else:\n",
    "    airbnbincome = None\n",
    "        \n",
    "airbnbProfit = airbnbincome - monthlyPayment\n",
    "airbnbCapRate = round((airbnbincome / price) * 100, 2)\n",
    "airbnbCashOnCash = round((airbnbProfit / downPayment) * 100, 2)\n",
    "print(\"Short Term Income:\", \"${:,.2f}\".format(airbnbincome))"
   ]
  },
  {
   "cell_type": "markdown",
   "metadata": {},
   "source": [
    "### Defines Rules"
   ]
  },
  {
   "cell_type": "code",
   "execution_count": 32,
   "metadata": {},
   "outputs": [],
   "source": [
    "fiftyPercent = traditionalincome / 2\n",
    "breakEvenLT = (allin / traditionalProfit) / 12\n",
    "breakEvenST = (allin / airbnbProfit) / 12\n",
    "twoPercent = True"
   ]
  },
  {
   "cell_type": "markdown",
   "metadata": {},
   "source": [
    "### Gets Desired Cash Flow, Cap Rate, & Cash On Cash"
   ]
  },
  {
   "cell_type": "code",
   "execution_count": 33,
   "metadata": {
    "scrolled": true
   },
   "outputs": [
    {
     "name": "stdout",
     "output_type": "stream",
     "text": [
      "Enter desired Cash Flow:300\n",
      "Enter desired Cap Rate:1\n",
      "Enter desired Cash On Cash:1\n"
     ]
    }
   ],
   "source": [
    "cashFlow = float(input(\"Enter desired Cash Flow:\"))\n",
    "capRate = float(input(\"Enter desired Cap Rate:\"))\n",
    "cashOnCash = float(input(\"Enter desired Cash On Cash:\"))"
   ]
  },
  {
   "cell_type": "code",
   "execution_count": 65,
   "metadata": {},
   "outputs": [],
   "source": [
    "request_headers = {\n",
    "    'accept': \n",
    "    'text/html, application/xhtml+xml, application/xml;q=0.9, image/webp, image/apng,*/*;q=0.8',\n",
    "    'accept-encoding': 'gzip, deflate, br',\n",
    "    'accept-language': 'en-US, en;q=0.8',\n",
    "    'upgrade-insecure-requests': '1',\n",
    "    'user-agent': 'Mozilla/5.0 (Windows NT 10.0; Win64; x64) AppleWebKit/537.36 (KHTML, like Gecko) Chrome/61.0.3163.100 Safari/537.36'\n",
    "    }\n",
    "with requests.Session() as session:\n",
    "    url = 'https://datausa.io/profile/geo/' + city.replace(' ', '-').lower() + '-' + state.replace(' ', '-').lower() + '#housing'\n",
    "    response = session.get(url, headers = request_headers)"
   ]
  },
  {
   "cell_type": "code",
   "execution_count": 66,
   "metadata": {},
   "outputs": [],
   "source": [
    "soup1 = BeautifulSoup(response.content, 'html.parser')"
   ]
  },
  {
   "cell_type": "code",
   "execution_count": 67,
   "metadata": {},
   "outputs": [
    {
     "data": {
      "text/plain": [
       "497800.0"
      ]
     },
     "execution_count": 67,
     "metadata": {},
     "output_type": "execute_result"
    }
   ],
   "source": [
    "propertyValue = soup1.findAll('div', {'class': 'topic property_value TextViz'})\n",
    "propertyValue = str(propertyValue[0]).split('div')\n",
    "propertyValue = str([x for x in propertyValue if 'stat-value' in x][0])\n",
    "propertyValue = re.findall('\\d+', propertyValue)\n",
    "propertyValue = float(''.join(propertyValue))\n",
    "propertyValue"
   ]
  },
  {
   "cell_type": "code",
   "execution_count": 100,
   "metadata": {},
   "outputs": [],
   "source": [
    "commute = soup1.findAll('div', {'class': 'topic commute_time TextViz'})\n",
    "commute = str(commute[0]).split('div')\n",
    "commute = str([x for x in commute if 'stat-value' in x][0])\n",
    "commute = re.findall('\\d+', commute)\n",
    "commute = float('.'.join(commute))"
   ]
  },
  {
   "cell_type": "code",
   "execution_count": null,
   "metadata": {},
   "outputs": [],
   "source": [
    "request_headers = {\n",
    "    'accept': \n",
    "    'text/html, application/xhtml+xml, application/xml;q=0.9, image/webp, image/apng,*/*;q=0.8',\n",
    "    'accept-encoding': 'gzip, deflate, br',\n",
    "    'accept-language': 'en-US, en;q=0.8',\n",
    "    'upgrade-insecure-requests': '1',\n",
    "    'user-agent': 'Mozilla/5.0 (Windows NT 10.0; Win64; x64) AppleWebKit/537.36 (KHTML, like Gecko) Chrome/61.0.3163.100 Safari/537.36'\n",
    "    }\n",
    "with requests.Session() as session:\n",
    "    url = 'https://datausa.io/profile/geo/' + city.replace(' ', '-').lower() + '-' + state.replace(' ', '-').lower() + '#housing'\n",
    "    response = session.get(url, headers = request_headers)"
   ]
  },
  {
   "cell_type": "code",
   "execution_count": 138,
   "metadata": {},
   "outputs": [
    {
     "data": {
      "text/plain": [
       "b'{\"data\":[],\"source\":[]}'"
      ]
     },
     "execution_count": 138,
     "metadata": {},
     "output_type": "execute_result"
    }
   ],
   "source": [
    "r = requests.get('https://datausa.io/api/data?drilldowns=State&measures=commute_time&year=latest')\n",
    "r.content"
   ]
  },
  {
   "cell_type": "code",
   "execution_count": 47,
   "metadata": {},
   "outputs": [
    {
     "data": {
      "text/plain": [
       "92.4"
      ]
     },
     "execution_count": 47,
     "metadata": {},
     "output_type": "execute_result"
    }
   ],
   "source": [
    "own = soup1.findAll('div', {'class': 'topic rent_own TextViz'})\n",
    "own = str(own[0]).split('div')\n",
    "own = str([x for x in own if 'stat-value' in x][0])\n",
    "own = re.findall('\\d+', own)\n",
    "own = float('.'.join(own))\n",
    "own"
   ]
  },
  {
   "cell_type": "code",
   "execution_count": 48,
   "metadata": {},
   "outputs": [],
   "source": [
    "rent = 100 - own"
   ]
  },
  {
   "cell_type": "code",
   "execution_count": 49,
   "metadata": {},
   "outputs": [],
   "source": [
    "request_headers = {\n",
    "    'accept': \n",
    "    'text/html, application/xhtml+xml, application/xml;q=0.9, image/webp, image/apng,*/*;q=0.8',\n",
    "    'accept-encoding': 'gzip, deflate, br',\n",
    "    'accept-language': 'en-US, en;q=0.8',\n",
    "    'upgrade-insecure-requests': '1',\n",
    "    'user-agent': 'Mozilla/5.0 (Windows NT 10.0; Win64; x64) AppleWebKit/537.36 (KHTML, like Gecko) Chrome/61.0.3163.100 Safari/537.36'\n",
    "    }\n",
    "with requests.Session() as session:\n",
    "    url = 'https://www.areavibes.com/' + city.replace(' ', '+').lower() + '-' + state.replace(' ', '-').lower() + '/livability/#ratings-jmp'\n",
    "    response = session.get(url, headers = request_headers)"
   ]
  },
  {
   "cell_type": "code",
   "execution_count": 50,
   "metadata": {},
   "outputs": [],
   "source": [
    "soup2 = BeautifulSoup(response.content, 'html.parser')"
   ]
  },
  {
   "cell_type": "markdown",
   "metadata": {},
   "source": [
    "##### Each category (amenities, cost of living, crime, employment, housing, schools and user ratings) is scored individually based on data in the methodology below. A letter grade is assigned to each category in order to easily evaluate the score.\n",
    "* A+\n",
    "83–100 \n",
    "* A\n",
    "80–82 \n",
    "* A-\n",
    "77–79 \n",
    "* B+\n",
    "74–76 \n",
    "* B \n",
    "71–73 \n",
    "* B- \n",
    "68–70 \n",
    "* C+ \n",
    "65–67 \n",
    "* C\n",
    "62–64 \n",
    "* C-\n",
    "59–61 \n",
    "* D+\n",
    "56–58 \n",
    "* D\n",
    "53–55 \n",
    "* D-\n",
    "50–52 \n",
    "* F\n",
    "0–49"
   ]
  },
  {
   "cell_type": "code",
   "execution_count": 51,
   "metadata": {},
   "outputs": [
    {
     "data": {
      "text/plain": [
       "76.0"
      ]
     },
     "execution_count": 51,
     "metadata": {},
     "output_type": "execute_result"
    }
   ],
   "source": [
    "score = str(soup2.find_all('nav', {'class': 'category-menu-new'})).split('<a')\n",
    "score = str([x for x in score if '/livability/' in x][0])\n",
    "score = re.findall('\\d+', score)\n",
    "score = float('.'.join(score))\n",
    "score"
   ]
  },
  {
   "cell_type": "markdown",
   "metadata": {},
   "source": [
    "Walk Score measures the walkability of any address based on the distance to nearby places and pedestrian friendliness.\n",
    "\n",
    "* 90–100\tWalker’s Paradise\n",
    "    - Daily errands do not require a car\n",
    "* 70–89\tVery Walkable\n",
    "    - Most errands can be accomplished on foot\n",
    "* 50–69\tSomewhat Walkable\n",
    "    - Some errands can be accomplished on foot\n",
    "* 25–49\tCar-Dependent\n",
    "    - Most errands require a car\n",
    "* 0–24\tCar-Dependent\n",
    "    - Almost all errands require a car"
   ]
  },
  {
   "cell_type": "code",
   "execution_count": 52,
   "metadata": {},
   "outputs": [
    {
     "data": {
      "text/plain": [
       "7"
      ]
     },
     "execution_count": 52,
     "metadata": {},
     "output_type": "execute_result"
    }
   ],
   "source": [
    "walkScore = int(str(soup.find_all('span', {'class': 'value poor'})[0].text))\n",
    "walkScore"
   ]
  },
  {
   "cell_type": "code",
   "execution_count": 53,
   "metadata": {},
   "outputs": [
    {
     "data": {
      "text/html": [
       "<div>\n",
       "<style scoped>\n",
       "    .dataframe tbody tr th:only-of-type {\n",
       "        vertical-align: middle;\n",
       "    }\n",
       "\n",
       "    .dataframe tbody tr th {\n",
       "        vertical-align: top;\n",
       "    }\n",
       "\n",
       "    .dataframe thead th {\n",
       "        text-align: right;\n",
       "    }\n",
       "</style>\n",
       "<table border=\"1\" class=\"dataframe\">\n",
       "  <thead>\n",
       "    <tr style=\"text-align: right;\">\n",
       "      <th></th>\n",
       "      <th>Avg Property Value</th>\n",
       "      <th>Home Owner Percentage</th>\n",
       "      <th>Rent Percentage</th>\n",
       "      <th>Avg Commute Time (Minutes)</th>\n",
       "      <th>Livability Score</th>\n",
       "      <th>Walk Score</th>\n",
       "    </tr>\n",
       "  </thead>\n",
       "  <tbody>\n",
       "    <tr>\n",
       "      <th>1</th>\n",
       "      <td>497800.0</td>\n",
       "      <td>92.4</td>\n",
       "      <td>7.6</td>\n",
       "      <td>22.1</td>\n",
       "      <td>76.0</td>\n",
       "      <td>7</td>\n",
       "    </tr>\n",
       "  </tbody>\n",
       "</table>\n",
       "</div>"
      ],
      "text/plain": [
       "   Avg Property Value  Home Owner Percentage  Rent Percentage  \\\n",
       "1            497800.0                   92.4              7.6   \n",
       "\n",
       "   Avg Commute Time (Minutes)  Livability Score  Walk Score  \n",
       "1                        22.1              76.0           7  "
      ]
     },
     "execution_count": 53,
     "metadata": {},
     "output_type": "execute_result"
    }
   ],
   "source": [
    "df = pd.DataFrame({'Avg Property Value': propertyValue, 'Home Owner Percentage': own, 'Rent Percentage': rent, 'Avg Commute Time (Minutes)': commute, 'Livability Score': score, 'Walk Score': walkScore}, index = [1])\n",
    "df"
   ]
  },
  {
   "cell_type": "markdown",
   "metadata": {},
   "source": [
    "# Logic"
   ]
  },
  {
   "cell_type": "code",
   "execution_count": 45,
   "metadata": {},
   "outputs": [],
   "source": [
    "if traditionalProfit <= 0:\n",
    "    breakEvenLT = \"Never\"\n",
    "else:\n",
    "    breakEvenLT = \"{:.2f} Year(s)\".format(breakEvenLT)\n",
    "\n",
    "if airbnbProfit <= 0:\n",
    "    breakEvenST = \"Never\"\n",
    "else:\n",
    "    breakEvenST = \"{:.2f} Year(s)\".format(breakEvenST)\n",
    "    \n",
    "if twoPercent == True:\n",
    "    twoPercent = price * .02\n",
    "    \n",
    "if (traditionalincome == twoPercent):\n",
    "    twoPercent = True\n",
    "else:\n",
    "    twoPercent = False\n",
    "\n",
    "if traditionalProfit != None:\n",
    "    traditionalProfitString = \"${:.2f}\".format(traditionalProfit)\n",
    "\n",
    "if airbnbProfit != None:\n",
    "    airbnbProfitString = \"${:.2f}\".format(airbnbProfit)\n",
    "\n",
    "if traditionalCapRate != None:\n",
    "    traditionalCapRateString = \"{:.2f}%\".format(traditionalCapRate)\n",
    "\n",
    "if airbnbCapRate != None:\n",
    "    airbnbCapRateString = \"{:.2f}%\".format(airbnbCapRate)\n",
    "\n",
    "if traditionalCashOnCash != None:\n",
    "    traditionalCashOnCashString = \"{:.2f}%\".format(traditionalCashOnCash)\n",
    "\n",
    "if airbnbCashOnCash != None:\n",
    "    airbnbCashOnCashString = \"{:.2f}%\".format(airbnbCashOnCash)\n",
    "\n",
    "traditionalincomeString = \"${:,.2f}\".format(traditionalincome)\n",
    "airbnbincomeString = \"${:,.2f}\".format(airbnbincome)\n",
    "fiftyPercentString = \"${:,.2f}\".format(fiftyPercent)"
   ]
  },
  {
   "cell_type": "markdown",
   "metadata": {},
   "source": [
    "## Grade"
   ]
  },
  {
   "cell_type": "markdown",
   "metadata": {},
   "source": [
    "#### A\n",
    "* Cash Flow\n",
    "* Cap Rate\n",
    "* Cash On Cash\n",
    "* Two Percent\n",
    "* Livability is "
   ]
  },
  {
   "cell_type": "code",
   "execution_count": 54,
   "metadata": {},
   "outputs": [],
   "source": [
    "if ((airbnbProfit >= cashFlow) and (airbnbCapRate >= capRate) and (airbnbCashOnCash >= cashOnCash) and (twoPercent == True) and (walkScore in range())):\n",
    "    airbnbGoodDeal = 1\n",
    "else:\n",
    "    airbnbGoodDeal = False\n",
    "\n",
    "if((traditionalProfit >= cashFlow) and (traditionalCapRate >= capRate) and (traditionalCashOnCash >= cashOnCash) and (twoPercent == True) and (score in range(77, 100)) and (commute <= 20) and (rent >= 50)):\n",
    "    traditionalGoodDeal = 1\n",
    "elif((traditionalProfit >= cashFlow) or (traditionalCapRate >= capRate) or (traditionalCashOnCash >= cashOnCash) and (twoPercent == True) and (score in range(68, 76)) and (commute <= 20) and (rent >= 50)):\n",
    "    traditionalGoodDeal = 2\n",
    "elif((traditionalProfit >= cashFlow) and (score in range(59, 67)) and (commute <= 30) and (rent >= 30)):\n",
    "    traditionalGoodDeal = 3\n",
    "else:\n",
    "    traditionalGoodDeal = 4\n",
    "\n",
    "if ((airbnbProfit >= cashFlow) and (airbnbCapRate >= capRate) and (airbnbCashOnCash >= cashOnCash)):\n",
    "    airbnbGoodDeal = True\n",
    "else:\n",
    "    airbnbGoodDeal = False\n",
    "\n",
    "if ((traditionalProfit >= cashFlow) and (traditionalCapRate >= capRate) and (traditionalCashOnCash >= cashOnCash)):\n",
    "    traditionalGoodDeal = True\n",
    "else:\n",
    "    traditionalGoodDeal = False\n",
    "\n",
    "if traditionalGoodDeal == 1:\n",
    "    traditionalGoodDeal = 'A'\n",
    "elif traditionalGoodDeal == 2:\n",
    "    traditionalGoodDeal = 'B'\n",
    "elif traditionalGoodDeal == 3:\n",
    "    traditionalGoodDeal = 'C'\n",
    "elif traditionalGoodDeal == 4:\n",
    "    traditionalGoodDeal = 'D'\n",
    "else:\n",
    "    traditionalGoodDeal = 'F'"
   ]
  },
  {
   "cell_type": "markdown",
   "metadata": {},
   "source": [
    "### Makes Values None if Beds or Baths Not Listed"
   ]
  },
  {
   "cell_type": "code",
   "execution_count": 55,
   "metadata": {},
   "outputs": [],
   "source": [
    "if beds == None or baths == None:\n",
    "    breakEvenLT = None\n",
    "    breakEvenST = None\n",
    "    fiftyPercent = None\n",
    "    airbnbincome = None\n",
    "    traditionalincome = None\n",
    "    airbnbProfit = None\n",
    "    airbnbCapRate = None\n",
    "    airbnbCashOnCash = None\n",
    "    traditionalProfit = None\n",
    "    traditionalCapRate = None\n",
    "    traditionalCashOnCash = None\n",
    "    traditionalGoodDeal = None\n",
    "    airbnbGoodDeal = None"
   ]
  },
  {
   "cell_type": "markdown",
   "metadata": {},
   "source": [
    "# Summary Report"
   ]
  },
  {
   "cell_type": "code",
   "execution_count": 58,
   "metadata": {},
   "outputs": [
    {
     "name": "stdout",
     "output_type": "stream",
     "text": [
      "SUMMARY for 4047 Bremo Recess, New Albany, OH 43054\n",
      "----------- ---------------------------------------\n",
      "Neighborhood: 1\n",
      "Property Type: Single Family Residential\n",
      "4 Beds\n",
      "5.0 Baths\n",
      "3700 sqft\n",
      "Price: $765,221.00\n",
      "Property Taxes: $468.00\n",
      "Home Insurance: $199.00\n",
      "HOA: $0.00\n",
      "Other Expenses: $0.00\n",
      "Management Fee:  $394.50\n",
      "Monthly Payment: $4,165.60\n",
      "---------------- ------\n",
      "Down payment: $153,044.20\n",
      "Down payment percent: 20.0%\n",
      "Interest: 4.00%\n",
      "30 Years\n",
      "Mortgage: $2,922.63\n",
      "--------- -------\n",
      "Long Term Cash Flow: $-220.60\n",
      "Long Term Break Even Time: Never\n",
      "Long Term Cap Rate: 0.52%\n",
      "Long Term Cash on Cash: -0.14%\n",
      "Long Term Cap Rate: 0.52%\n",
      "Long Term Cash on Cash: -0.14%\n",
      "Short Term Cash Flow: $-1360.60\n",
      "Short Term Break Even Time: Never\n",
      "Short Term Cap Rate: 0.37%\n",
      "Short Term Cash on Cash: -0.89%\n",
      "Long Term Cash Flow: $-220.60\n",
      "Long Term Grade: F\n",
      "Short Term Grade: False\n"
     ]
    }
   ],
   "source": [
    "print(\"SUMMARY for\", address)\n",
    "dashes = []\n",
    "for element in address:\n",
    "    e = dashes.append('-')\n",
    "dashes = ''.join(dashes)\n",
    "print('-----------', dashes)\n",
    "print(\"Neighborhood:\", neighborhood)\n",
    "print(\"Property Type:\", propertyType)\n",
    "print(beds, \"Beds\")\n",
    "print(baths, \"Baths\")\n",
    "print(sqft, \"sqft\")\n",
    "print(\"Price:\", \"${:,.2f}\".format(price))\n",
    "print(\"Property Taxes:\", \"${:,.2f}\".format(propertyTaxes))\n",
    "print(\"Home Insurance:\", \"${:,.2f}\".format(homeInsurance))\n",
    "print(\"HOA:\", \"${:,.2f}\".format(hoa))\n",
    "print(\"Other Expenses:\", \"${:,.2f}\".format(otherExpenses))\n",
    "if propertyManagement == True:\n",
    "    print(\"Management Fee: \", \"${:,.2f}\".format(propertyManagementFee))\n",
    "else:\n",
    "    pass\n",
    "print(\"Monthly Payment:\", \"${:,.2f}\".format(monthlyPayment))\n",
    "dashes = []\n",
    "for element in str(monthlyPayment):\n",
    "    e = dashes.append('-')\n",
    "dashes = ''.join(dashes)\n",
    "print('----------------', dashes)\n",
    "print(\"Down payment:\", \"${:,.2f}\".format(downPayment))\n",
    "print(\"Down payment percent:\", \"{:.1f}%\".format(percent))\n",
    "print(\"Interest:\", \"{:.2f}%\".format(interest))\n",
    "print(years, \"Years\")\n",
    "print(\"Mortgage:\", \"${:,.2f}\".format(mortgage))\n",
    "dashes = []\n",
    "for element in str(mortgage):\n",
    "    e = dashes.append('-')\n",
    "dashes = ''.join(dashes)\n",
    "print('---------', dashes)\n",
    "print(\"Long Term Cash Flow:\", traditionalProfitString)\n",
    "print(\"Long Term Break Even Time:\", breakEvenLT)\n",
    "print(\"Long Term Cap Rate:\", traditionalCapRateString)\n",
    "print(\"Long Term Cash on Cash:\", traditionalCashOnCashString)\n",
    "print(\"Long Term Cap Rate:\", traditionalCapRateString)\n",
    "print(\"Long Term Cash on Cash:\", traditionalCashOnCashString)\n",
    "print(\"Short Term Cash Flow:\", airbnbProfitString)\n",
    "print(\"Short Term Break Even Time:\", breakEvenST)\n",
    "print(\"Short Term Cap Rate:\", airbnbCapRateString)\n",
    "print(\"Short Term Cash on Cash:\", airbnbCashOnCashString)\n",
    "print(\"Long Term Cash Flow:\", traditionalProfitString)\n",
    "print(\"Long Term Grade:\", traditionalGoodDeal)\n",
    "print(\"Short Term Grade:\", airbnbGoodDeal)"
   ]
  },
  {
   "cell_type": "code",
   "execution_count": null,
   "metadata": {},
   "outputs": [],
   "source": []
  },
  {
   "cell_type": "code",
   "execution_count": null,
   "metadata": {},
   "outputs": [],
   "source": []
  }
 ],
 "metadata": {
  "kernelspec": {
   "display_name": "Python 3",
   "language": "python",
   "name": "python3"
  },
  "language_info": {
   "codemirror_mode": {
    "name": "ipython",
    "version": 3
   },
   "file_extension": ".py",
   "mimetype": "text/x-python",
   "name": "python",
   "nbconvert_exporter": "python",
   "pygments_lexer": "ipython3",
   "version": "3.8.10"
  }
 },
 "nbformat": 4,
 "nbformat_minor": 4
}
