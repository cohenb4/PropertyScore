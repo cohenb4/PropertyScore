{
 "cells": [
  {
   "cell_type": "code",
   "execution_count": 1,
   "metadata": {},
   "outputs": [],
   "source": [
    "import pandas as pd"
   ]
  },
  {
   "cell_type": "code",
   "execution_count": 2,
   "metadata": {},
   "outputs": [],
   "source": [
    "data = pd.read_csv('~\\Calc\\Data\\AllData.csv')\n",
    "financials = pd.read_csv('~\\Calc\\Data\\Financials.csv')"
   ]
  },
  {
   "cell_type": "code",
   "execution_count": 3,
   "metadata": {},
   "outputs": [],
   "source": [
    "traditionalincome = float(data['Rent']) "
   ]
  },
  {
   "cell_type": "code",
   "execution_count": 4,
   "metadata": {},
   "outputs": [],
   "source": [
    "airbnbincome = float(data['AirBnb']) "
   ]
  },
  {
   "cell_type": "code",
   "execution_count": 5,
   "metadata": {},
   "outputs": [],
   "source": [
    "monthlyPayment = float(data['Monthly Payment'])"
   ]
  },
  {
   "cell_type": "code",
   "execution_count": 6,
   "metadata": {},
   "outputs": [],
   "source": [
    "traditionalprofit = traditionalincome - monthlyPayment"
   ]
  },
  {
   "cell_type": "code",
   "execution_count": 7,
   "metadata": {},
   "outputs": [],
   "source": [
    "airbnbprofit = airbnbincome - monthlyPayment"
   ]
  },
  {
   "cell_type": "code",
   "execution_count": 8,
   "metadata": {},
   "outputs": [],
   "source": [
    "price = float(financials['Price'])"
   ]
  },
  {
   "cell_type": "code",
   "execution_count": 9,
   "metadata": {},
   "outputs": [],
   "source": [
    "downpayment = float(financials['Down Payment'])"
   ]
  },
  {
   "cell_type": "code",
   "execution_count": 10,
   "metadata": {},
   "outputs": [],
   "source": [
    "def capRate(income, price):\n",
    "    return income / price"
   ]
  },
  {
   "cell_type": "code",
   "execution_count": 11,
   "metadata": {},
   "outputs": [],
   "source": [
    "def cashOnCash(profit, downpayment):\n",
    "    return profit / downpayment"
   ]
  },
  {
   "cell_type": "code",
   "execution_count": 12,
   "metadata": {},
   "outputs": [],
   "source": [
    "airbnbCapRate = round(capRate(airbnbincome, price) * 100, 2)"
   ]
  },
  {
   "cell_type": "code",
   "execution_count": 13,
   "metadata": {},
   "outputs": [],
   "source": [
    "traditionalCapRate = round(capRate(traditionalincome, price) * 100, 2)"
   ]
  },
  {
   "cell_type": "code",
   "execution_count": 14,
   "metadata": {},
   "outputs": [],
   "source": [
    "airbnbCashOnCash = round(cashOnCash(airbnbprofit, downpayment) * 100, 2)"
   ]
  },
  {
   "cell_type": "code",
   "execution_count": 15,
   "metadata": {},
   "outputs": [],
   "source": [
    "traditionalCashOnCash = round(cashOnCash(traditionalprofit, downpayment)* 100, 2)"
   ]
  },
  {
   "cell_type": "code",
   "execution_count": 16,
   "metadata": {},
   "outputs": [],
   "source": [
    "profit = pd.DataFrame(columns = ['PropertyID', 'Long Term Rental Profit', 'Short Term Rental Profit', 'Airbnb Cap Rate', 'Airbnb Cash On Cash', 'Traditional Cap Rate', 'Traditional Cash On Cash'])\n",
    "profit = profit.append({'PropertyID': 1, 'Long Term Rental Profit': traditionalprofit, 'Short Term Rental Profit': airbnbprofit, 'Airbnb Cap Rate': airbnbCapRate, 'Airbnb Cash On Cash': airbnbCashOnCash, 'Traditional Cap Rate': traditionalCapRate, 'Traditional Cash On Cash': traditionalCashOnCash}, ignore_index = True)"
   ]
  },
  {
   "cell_type": "code",
   "execution_count": 17,
   "metadata": {},
   "outputs": [],
   "source": [
    "profit.to_csv('~\\Calc\\Data\\Profit.csv', index = False)"
   ]
  },
  {
   "cell_type": "code",
   "execution_count": 18,
   "metadata": {},
   "outputs": [
    {
     "data": {
      "text/html": [
       "<div>\n",
       "<style scoped>\n",
       "    .dataframe tbody tr th:only-of-type {\n",
       "        vertical-align: middle;\n",
       "    }\n",
       "\n",
       "    .dataframe tbody tr th {\n",
       "        vertical-align: top;\n",
       "    }\n",
       "\n",
       "    .dataframe thead th {\n",
       "        text-align: right;\n",
       "    }\n",
       "</style>\n",
       "<table border=\"1\" class=\"dataframe\">\n",
       "  <thead>\n",
       "    <tr style=\"text-align: right;\">\n",
       "      <th></th>\n",
       "      <th>PropertyID</th>\n",
       "      <th>Long Term Rental Profit</th>\n",
       "      <th>Short Term Rental Profit</th>\n",
       "      <th>Airbnb Cap Rate</th>\n",
       "      <th>Airbnb Cash On Cash</th>\n",
       "      <th>Traditional Cap Rate</th>\n",
       "      <th>Traditional Cash On Cash</th>\n",
       "    </tr>\n",
       "  </thead>\n",
       "  <tbody>\n",
       "    <tr>\n",
       "      <th>0</th>\n",
       "      <td>1.0</td>\n",
       "      <td>-7.98</td>\n",
       "      <td>652.02</td>\n",
       "      <td>0.69</td>\n",
       "      <td>1.09</td>\n",
       "      <td>0.47</td>\n",
       "      <td>-0.01</td>\n",
       "    </tr>\n",
       "  </tbody>\n",
       "</table>\n",
       "</div>"
      ],
      "text/plain": [
       "   PropertyID  Long Term Rental Profit  Short Term Rental Profit  \\\n",
       "0         1.0                    -7.98                    652.02   \n",
       "\n",
       "   Airbnb Cap Rate  Airbnb Cash On Cash  Traditional Cap Rate  \\\n",
       "0             0.69                 1.09                  0.47   \n",
       "\n",
       "   Traditional Cash On Cash  \n",
       "0                     -0.01  "
      ]
     },
     "execution_count": 18,
     "metadata": {},
     "output_type": "execute_result"
    }
   ],
   "source": [
    "profit"
   ]
  },
  {
   "cell_type": "code",
   "execution_count": 19,
   "metadata": {},
   "outputs": [],
   "source": [
    "df = pd.read_csv('~\\Calc\\Data\\AllData.csv')"
   ]
  },
  {
   "cell_type": "code",
   "execution_count": 20,
   "metadata": {},
   "outputs": [],
   "source": [
    "profit = pd.merge(profit, df, on = \"PropertyID\")"
   ]
  },
  {
   "cell_type": "code",
   "execution_count": 21,
   "metadata": {},
   "outputs": [],
   "source": [
    "profit.to_csv('~\\Calc\\Data\\AllData.csv', index = False)"
   ]
  },
  {
   "cell_type": "code",
   "execution_count": 22,
   "metadata": {},
   "outputs": [],
   "source": [
    "data = pd.read_csv('~\\Calc\\Data\\AllData.csv')\n",
    "data.drop_duplicates(inplace=True)\n",
    "data.to_csv('~\\Calc\\Data\\Alldata.csv', index = False)"
   ]
  },
  {
   "cell_type": "code",
   "execution_count": null,
   "metadata": {},
   "outputs": [],
   "source": []
  }
 ],
 "metadata": {
  "kernelspec": {
   "display_name": "Python 3",
   "language": "python",
   "name": "python3"
  },
  "language_info": {
   "codemirror_mode": {
    "name": "ipython",
    "version": 3
   },
   "file_extension": ".py",
   "mimetype": "text/x-python",
   "name": "python",
   "nbconvert_exporter": "python",
   "pygments_lexer": "ipython3",
   "version": "3.8.5"
  }
 },
 "nbformat": 4,
 "nbformat_minor": 4
}
