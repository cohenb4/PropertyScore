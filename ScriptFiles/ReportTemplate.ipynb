{
 "cells": [
  {
   "cell_type": "code",
   "execution_count": 1,
   "metadata": {},
   "outputs": [
    {
     "name": "stdout",
     "output_type": "stream",
     "text": [
      "Requirement already satisfied: reportlab in c:\\users\\bcohe\\anaconda3\\lib\\site-packages (3.5.67)\n",
      "Requirement already satisfied: pillow>=4.0.0 in c:\\users\\bcohe\\anaconda3\\lib\\site-packages (from reportlab) (8.0.1)\n"
     ]
    }
   ],
   "source": [
    "!pip install reportlab"
   ]
  },
  {
   "cell_type": "code",
   "execution_count": 2,
   "metadata": {},
   "outputs": [],
   "source": [
    "from reportlab.pdfgen.canvas import Canvas\n",
    "from reportlab.lib.units import inch, cm\n",
    "from reportlab.lib.pagesizes import LETTER\n",
    "from reportlab.lib.utils import ImageReader"
   ]
  },
  {
   "cell_type": "code",
   "execution_count": 3,
   "metadata": {},
   "outputs": [],
   "source": [
    "def Header(address):\n",
    "    street = (address.split(',')[0]).replace(' ', '-')\n",
    "    canvas = Canvas(street + \".pdf\")\n",
    "    canvas = Canvas((street + \".pdf\"), pagesize = LETTER)\n",
    "    canvas.setFont(\"Times-Roman\", 18)\n",
    "    canvas.drawString(1 * inch, 10 * inch, address)\n",
    "    canvas.save()"
   ]
  },
  {
   "cell_type": "code",
   "execution_count": 4,
   "metadata": {},
   "outputs": [],
   "source": [
    "def image(image):\n",
    "    canvas.drawImage(logo, 10, 10)\n",
    "    canvas.showPage()\n",
    "    canvas.save()"
   ]
  },
  {
   "cell_type": "code",
   "execution_count": 5,
   "metadata": {},
   "outputs": [],
   "source": [
    "import pandas as pd"
   ]
  },
  {
   "cell_type": "code",
   "execution_count": 6,
   "metadata": {},
   "outputs": [],
   "source": [
    "dataSet = pd.read_csv('~\\Calc\\Data\\AllData.csv')"
   ]
  },
  {
   "cell_type": "code",
   "execution_count": 7,
   "metadata": {},
   "outputs": [
    {
     "data": {
      "text/html": [
       "<div>\n",
       "<style scoped>\n",
       "    .dataframe tbody tr th:only-of-type {\n",
       "        vertical-align: middle;\n",
       "    }\n",
       "\n",
       "    .dataframe tbody tr th {\n",
       "        vertical-align: top;\n",
       "    }\n",
       "\n",
       "    .dataframe thead th {\n",
       "        text-align: right;\n",
       "    }\n",
       "</style>\n",
       "<table border=\"1\" class=\"dataframe\">\n",
       "  <thead>\n",
       "    <tr style=\"text-align: right;\">\n",
       "      <th></th>\n",
       "      <th>PropertyID</th>\n",
       "      <th>Street</th>\n",
       "      <th>City</th>\n",
       "      <th>State</th>\n",
       "      <th>ZipCode</th>\n",
       "      <th>Beds</th>\n",
       "      <th>Baths</th>\n",
       "      <th>SQFT</th>\n",
       "      <th>Price</th>\n",
       "      <th>Down Payment</th>\n",
       "      <th>Monthly Payment</th>\n",
       "      <th>House Type</th>\n",
       "      <th>Year Built</th>\n",
       "      <th>Heating</th>\n",
       "      <th>Cooling</th>\n",
       "      <th>Parking</th>\n",
       "      <th>Lot</th>\n",
       "      <th>Price/SQFT</th>\n",
       "    </tr>\n",
       "  </thead>\n",
       "  <tbody>\n",
       "    <tr>\n",
       "      <th>0</th>\n",
       "      <td>1</td>\n",
       "      <td>243 Thisbe Ave</td>\n",
       "      <td>Cincinnati</td>\n",
       "      <td>OH</td>\n",
       "      <td>45233</td>\n",
       "      <td>2.0</td>\n",
       "      <td>1.0</td>\n",
       "      <td>744</td>\n",
       "      <td>130000.0</td>\n",
       "      <td>26000.0</td>\n",
       "      <td>772.51</td>\n",
       "      <td>SingleFamily</td>\n",
       "      <td>1931</td>\n",
       "      <td>Forced Air</td>\n",
       "      <td>Central Air</td>\n",
       "      <td>No Garage</td>\n",
       "      <td>0.26</td>\n",
       "      <td>174.73</td>\n",
       "    </tr>\n",
       "  </tbody>\n",
       "</table>\n",
       "</div>"
      ],
      "text/plain": [
       "   PropertyID          Street        City State  ZipCode  Beds  Baths  SQFT  \\\n",
       "0           1  243 Thisbe Ave  Cincinnati    OH    45233   2.0    1.0   744   \n",
       "\n",
       "      Price  Down Payment  Monthly Payment    House Type  Year Built  \\\n",
       "0  130000.0       26000.0           772.51  SingleFamily        1931   \n",
       "\n",
       "      Heating      Cooling    Parking   Lot  Price/SQFT  \n",
       "0  Forced Air  Central Air  No Garage  0.26      174.73  "
      ]
     },
     "execution_count": 7,
     "metadata": {},
     "output_type": "execute_result"
    }
   ],
   "source": [
    "dataSet"
   ]
  },
  {
   "cell_type": "code",
   "execution_count": 8,
   "metadata": {},
   "outputs": [],
   "source": [
    "beds = str(int(dataSet['Beds']))\n",
    "street = str(dataSet['Street'][0]).replace(' ', '-').replace('0----', '')\n",
    "city = str(dataSet['City'][0]).replace(' ', '-').replace('0----', '')\n",
    "state = str(dataSet['State'][0]).replace(' ', '-').replace('0----', '')\n",
    "zipcode = str(dataSet['ZipCode'][0]).replace(' ', '-').replace('0----', '')\n",
    "address = street.replace('-', ' ') + \", \" + city + \", \" + state + \", \" + zipcode"
   ]
  },
  {
   "cell_type": "code",
   "execution_count": 10,
   "metadata": {},
   "outputs": [
    {
     "ename": "NameError",
     "evalue": "name 'pdf' is not defined",
     "output_type": "error",
     "traceback": [
      "\u001b[1;31m---------------------------------------------------------------------------\u001b[0m",
      "\u001b[1;31mNameError\u001b[0m                                 Traceback (most recent call last)",
      "\u001b[1;32m<ipython-input-10-dc006fbbe385>\u001b[0m in \u001b[0;36m<module>\u001b[1;34m\u001b[0m\n\u001b[0;32m      1\u001b[0m \u001b[0mHeader\u001b[0m\u001b[1;33m(\u001b[0m\u001b[0maddress\u001b[0m\u001b[1;33m)\u001b[0m\u001b[1;33m\u001b[0m\u001b[1;33m\u001b[0m\u001b[0m\n\u001b[1;32m----> 2\u001b[1;33m \u001b[0mpdf\u001b[0m\u001b[1;33m.\u001b[0m\u001b[0mdocumentinfo\u001b[0m\u001b[1;33m(\u001b[0m\u001b[1;33m)\u001b[0m\u001b[1;33m\u001b[0m\u001b[1;33m\u001b[0m\u001b[0m\n\u001b[0m",
      "\u001b[1;31mNameError\u001b[0m: name 'pdf' is not defined"
     ]
    }
   ],
   "source": [
    "Header(address)\n",
    "pdf.documentinfo()"
   ]
  },
  {
   "cell_type": "code",
   "execution_count": null,
   "metadata": {},
   "outputs": [],
   "source": []
  }
 ],
 "metadata": {
  "kernelspec": {
   "display_name": "Python 3",
   "language": "python",
   "name": "python3"
  },
  "language_info": {
   "codemirror_mode": {
    "name": "ipython",
    "version": 3
   },
   "file_extension": ".py",
   "mimetype": "text/x-python",
   "name": "python",
   "nbconvert_exporter": "python",
   "pygments_lexer": "ipython3",
   "version": "3.8.5"
  }
 },
 "nbformat": 4,
 "nbformat_minor": 4
}
